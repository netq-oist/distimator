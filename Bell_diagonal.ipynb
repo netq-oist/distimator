{
  "nbformat": 4,
  "nbformat_minor": 0,
  "metadata": {
    "colab": {
      "provenance": [],
      "authorship_tag": "ABX9TyNA1AQq/V4NtzS0OrGah4zT",
      "include_colab_link": true
    },
    "kernelspec": {
      "name": "python3",
      "display_name": "Python 3"
    },
    "language_info": {
      "name": "python"
    }
  },
  "cells": [
    {
      "cell_type": "markdown",
      "metadata": {
        "id": "view-in-github",
        "colab_type": "text"
      },
      "source": [
        "<a href=\"https://colab.research.google.com/github/netq-oist/estimation-private/blob/main/Bell_diagonal.ipynb\" target=\"_parent\"><img src=\"https://colab.research.google.com/assets/colab-badge.svg\" alt=\"Open In Colab\"/></a>"
      ]
    },
    {
      "cell_type": "markdown",
      "source": [
        "# Preamble\n",
        "Given a state of the Bell diagonal form $\\rho = p_1|\\Phi^+\\rangle\\langle \\Phi^+| + p_2|\\Psi^+\\rangle\\langle \\Psi^+|+ p_3|\\Phi^-\\rangle\\langle \\Phi^-|+ p_4|\\Psi^-\\rangle\\langle \\Psi^-|$, the aim is to estimate the value of $p_1,p_2,p_3,p_4$. We consider, estimation of $p_1,p_2,p_3,p_4$ from the measurement statistics of a distillation protocol. The distillation protocol is as follows.\n",
        "\n",
        "1) Alice and Bob start with two copies of a noisy Bell diagonal state.\n",
        "\n",
        "2) Each applies local XOR operations on the local parts of their two copies, with one copy as the control and another one as the target.\n",
        "\n",
        "3) Each of them measures the target qubit in the $Z$-basis and communicates the results classically.\n",
        "\n",
        "4) If they obtain correlated outcomes i.e, $00,11$ they keep the unmeasured copy, otherwise they discard the state.\n",
        "\n",
        "In this way they obtain $p_{00}$.\n",
        "\n",
        "In a similar way, they do another (variation of) protocol,\n",
        "\n",
        "1) Alice and Bob start with two copies of a noisy Bell diagonal state.\n",
        "\n",
        "2) Each applies local XOR operations on the local parts of their two copies, with one copy as the control and another one as the target.\n",
        "\n",
        "3) This time each of them measures the control qubit in the $X$-basis and communicates the results classically.\n",
        "\n",
        "4) If they obtain correlated outcomes i.e, $++,--$ they keep the unmeasured copy, otherwise they discard the state.\n",
        "\n",
        "In this way they obtain $p_{++}$.\n",
        "\n",
        "They now do another (variation of) protocol which is exactly same as the first one but this time they apply bilateral $\\pi/2$ rotaion on each of the four qubit initially. This implies, they start the distillation protocol with a rotaed bell diagonal state of the form $\\rho = p_2|\\Phi^+\\rangle\\langle \\Phi^+| + p_1|\\Psi^+\\rangle\\langle \\Psi^+|+ p_3|\\Phi^-\\rangle\\langle \\Phi^-|+ p_4|\\Psi^-\\rangle\\langle \\Psi^-|$.\n",
        "\n",
        "From this protocol, they obtain another probability $p_{HH}$.\n",
        "\n",
        "From this $p_{00}, p_{++}, p_{HH}$, our aim is to invert $p_1,p_2,p_3,p_4$ even in presence of noise."
      ],
      "metadata": {
        "id": "VNrt3OwrBZ5e"
      }
    },
    {
      "cell_type": "code",
      "execution_count": null,
      "metadata": {
        "id": "av7jVOfuBSZe"
      },
      "outputs": [],
      "source": [
        "# Initialisation\n",
        "\n",
        "import numpy as np\n",
        "import math as mt\n",
        "import numpy.linalg as nl\n",
        "import functools\n",
        "import random\n",
        "\n",
        "import matplotlib.pyplot as plt\n",
        "\n",
        "def multikron(arrays):\n",
        "  return functools.reduce(np.kron, arrays)\n",
        "\n",
        "# up-down states for Z basis\n",
        "upZ = np.matrix([[1.0],[0.0]])\n",
        "downZ = np.matrix([[0.0],[1.0]])\n",
        "\n",
        "# up-down states for X basis\n",
        "upX = (1./mt.sqrt(2.0))*(upZ + downZ)\n",
        "downX = (1./mt.sqrt(2.0))*(upZ - downZ)\n",
        "\n",
        "# up-down states for Y basis\n",
        "upY = (1./mt.sqrt(2.0))*(upZ + 1j* downZ)\n",
        "downY = (1./mt.sqrt(2.0))*(upZ - 1j* downZ)\n",
        "\n",
        "# Pauli matrices\n",
        "s0 = np.matrix([[1.0, 0.0],[0.0, 1.0]])      # I_2\n",
        "s1 = np.matrix([[0.0, 1.0],[1.0, 0.0]])      # Pauli-X\n",
        "s2 = np.matrix([[0.0, -1j],[1j, 0.0]])       # Pauli-Y\n",
        "s3 = np.matrix([[1.0, 0.0],[0.0, -1.0]])     # Pauli-Z\n",
        "\n",
        "# Bell states\n",
        "phip = (1./mt.sqrt(2.0)) * np.matrix([ [1.], [0.], [0.], [1.]])\n",
        "phim = (1./mt.sqrt(2.0)) * np.matrix([ [1.], [0.], [0.], [-1.]])\n",
        "psip = (1./mt.sqrt(2.0)) * np.matrix([ [0.], [1.], [1.], [0.]])\n",
        "psim = (1./mt.sqrt(2.0)) * np.matrix([ [0.], [1.], [-1.], [0.]])\n",
        "\n",
        "# Gates\n",
        "CNOT = np.array([[1.0,0.0,0.0,0.0],\n",
        "                 [0.0,1.0,0.0,0.0],\n",
        "                 [0.0,0.0,0.0,1.0],\n",
        "                 [0.0,0.0,1.0,0.0]]) #CNOT gate\n",
        "\n",
        "SWAP = np.array([[1.0,0.0,0.0,0.0],\n",
        "                 [0.0,0.0,1.0,0.0],\n",
        "                 [0.0,1.0,0.0,0.0],\n",
        "                 [0.0,0.0,0.0,1.0]])  #SWAP gate\n",
        "\n",
        "ID = np.array([[1.0,0.0,0.0,0.0],\n",
        "                 [0.0,1.0,0.0,0.0],\n",
        "                 [0.0,0.0,1.0,0.0],\n",
        "                 [0.0,0.0,0.0,1.0]]) # 4X4 Identity matrix\n",
        "\n",
        "#HAD = (1./mt.sqrt(2.0)) * np.matrix([[1.0, 1.0],[1.0, -1.0]]) #Hadamard gate\n",
        "\n",
        "#ZROT = np.matrix([[1.0, 0.0],[0.0, 1j]]) #Bilateral Z rotaion\n",
        "\n",
        "XROT = (1./2.) * np.matrix([[1.0 + 1j, 1.0 - 1j],[1.0 - 1j, 1.0 + 1j]]) #Bilateral X rotaion"
      ]
    },
    {
      "cell_type": "markdown",
      "source": [
        "# Action of noise and calculation of probability\n",
        "\n",
        "Given Bell diagonal state: $\\rho = p_1|\\Phi^+\\rangle\\langle \\Phi^+| + p_2|\\Psi^+\\rangle\\langle \\Psi^+|+ p_3|\\Phi^-\\rangle\\langle \\Phi^-|+ p_4|\\Psi^-\\rangle\\langle \\Psi^-|$\n",
        "\n",
        "Dephasing parameter $p = \\frac{1}{2}(1-e^{-\\frac{t}{T_2}})$ and depolarizing parameter $q = (1-e^{-\\frac{t}{T_1}})$\n",
        "\n",
        "Action of dephasing operation:\n",
        "$\\Lambda_{deph} (\\rho) = (1-p)\\rho + p \\sigma_Z \\rho \\sigma_Z$\n",
        "\n",
        "Action of depolarizing operation:\n",
        "$\\Lambda_{depol} (\\rho) = (1-q)\\rho + \\frac{q}{2} \\mathbb{I}$\n",
        "\n",
        "Final state after the action of these two noise\n",
        "$\\Lambda_{depol}(\\Lambda_{deph}(\\rho_w))$\n",
        "\n",
        "Action of noisy CNOT on $\\rho_{A_1A_2B_1B_2}$:\n",
        "\n",
        "\\begin{align}\n",
        "\\Lambda_{\\text{CNOT}}(\\rho_{A_1 A_2 B_1 B_2})\n",
        "=\\quad &(1-y_1)(1-y_2) \\,\\text{CNOT}_{A_1 A_2}\\otimes \\text{CNOT}_{B_1 B_2} \\,  \\rho_{A_1A_2B_1B_2} \\,\\text{CNOT}_{A_1 A_2} \\otimes \\text{CNOT}_{B_1 B_2}\\\\\n",
        "+ &\\frac{y_2(1-y_1)}{4} \\,\\text{CNOT}_{A_1 A_2}\\otimes I_{B_1 B_2} \\,  \\rho_{A_1A_2B_1B_2} \\,\\text{CNOT}_{A_1 A_2} \\otimes I_{B_1 B_2}\\\\\n",
        "+ &\\frac{y_1(1-y_2)}{4}\\,I_{A_1 A_2}\\otimes\\text{CNOT}_{B_1 B_2} \\,  \\rho_{A_1A_2B_1B_2} \\,I_{A_1 A_2}\\otimes\\text{CNOT}_{B_1 B_2}\\\\\n",
        "+ &\\frac{y_1 y_2}{16} \\mathbb{I}\n",
        "\\end{align}\n",
        "\n",
        "Final state after all the noise acion:\n",
        "\\begin{equation}\n",
        "\\rho_{final} = \\Lambda_{\\text{CNOT}}((\\mathbb{I} \\otimes SWAP \\otimes \\mathbb{I})(\\Lambda_{depol}(\\Lambda_{deph}(\\rho)) \\otimes \\rho)(\\mathbb{I} \\otimes SWAP \\otimes \\mathbb{I}))\n",
        "\\end{equation}\n",
        "\n",
        "Noisy measurement:\n",
        "\n",
        "$M_{pz}= pz |0\\rangle\\langle 0|+ (1-pz)|1\\rangle\\langle 1|$\n",
        "Probability of getting 00 outcome is given by Born rule\n",
        "\\begin{equation}\n",
        "p_{00} = Tr[ \\langle M_{p_{A_z}}|_{A_2} \\langle M_{p_{B_z}}|_{B_2} (\\rho_{final}) |M_{p_{A_z}}⟩_{A_2} |M_{p_{B_z}}⟩_{B_2} ]\n",
        "\\end{equation}\n",
        "\n",
        "$M_{p_x}= p_x |+\\rangle\\langle +|+ (1-p_x)|1\\rangle\\langle 1|$\n",
        "Probability of getting ++ outcome is given by Born rule\n",
        "\\begin{equation}\n",
        "p_{++} = Tr[ \\langle M_{p_{A_x}}|_{A_1} \\langle M_{p_{B_x}}|_{B_1} (\\rho_{final}) |M_{p_{A_x}}⟩_{A_1} |M_{p_{B_x}}⟩_{B_1} ]\n",
        "\\end{equation}\n",
        "\n",
        "# Calculation in terms of Bell vector\n",
        "Bell diagonal state: $\\rho = p_1 |\\Phi^+\\rangle\\langle \\Phi^+| + p_2 |\\Psi^+\\rangle\\langle \\Psi^+| + p_3 |\\Phi^-\\rangle\\langle \\Phi^-| + p_4 |\\Psi^-\\rangle\\langle \\Psi^-|$ denoted as $(p_1,p_2,p_3,p_4)$.\n",
        "\n",
        "Rotated Bell diagonal state: $\\rho = p_2 |\\Phi^+\\rangle\\langle \\Phi^+| + p_1 |\\Psi^+\\rangle\\langle \\Psi^+| + p_3 |\\Phi^-\\rangle\\langle \\Phi^-| + p_4 |\\Psi^-\\rangle\\langle \\Psi^-|$ denoted as $(p_2,p_1,p_3,p_4)$.\n",
        "\n",
        "Action of X operator: $(\\mathbb{I} \\otimes X)(p_1, p_2, p_3, p_4) ⇒ (p_2, p_1, p_4, p_3)$\n",
        "\n",
        "Action of Z operator: $(\\mathbb{I} \\otimes Z)(p_1, p_2, p_3, p_4) ⇒ (p_3, p_4, p_1, p_2)$\n",
        "\n",
        "Action of Y operator: $(\\mathbb{I} \\otimes Y)(p_1, p_2, p_3, p_4) ⇒ (p_4, p_3, p_2, p_1)$\n",
        "\n",
        "Therefore, under dephasing: $(\\Lambda_{deph})(p_1, p_2, p_3, p_4) ⇒ ((1-p_A)(1-p_B) + p_Ap_B)(p_1, p_2, p_3, p_4) + (p_A(1-p_B) + p_B(1-p_A))(p_3, p_4, p_1, p_2)$.\n",
        "\n",
        "Under depolarising: $(\\Lambda_{depol})(p_1, p_2, p_3, p_4) ⇒ (1-3q_A/4)(1-3q_B/4)(p_1, p_2, p_3, p_4)  + (q_Aq_B/16)(2(1, 1, 1, 1) + (p_1, p_2, p_3, p_4)) + ((1-3q_A/4)q_B/4 +(1-3q_B/4)q_A/4)((p_2, p_1, p_4, p_3)+(p_3, p_4, p_1, p_2)+(p_4, p_3, p_2, p_1))$.\n",
        "\n",
        "Under CNOT: $p_1p_1' → p_1p_1', p_1p_2' → p_1p_2', p_1p_3' → p_3p_3', p_1p_4' → p_3p_4', p_2p_1' → p_2p_2', p_2p_2' → p_2p_1', p_2p_3' → p_4p_4', p_2p_4' → p_4p_3',   p_3p_1' → p_3p_1', p_3p_2' → p_3p_2', p_3p_3' → p_1p_3', p_3p_4' → p_1p_4', p_4p_1' → p_4p_2', p_4p_2' → p_4p_1', p_4p_3' → p_2p_4', p_4p_4' → p_2p_3'$ where the coefficients corresponding to the second copy are denoted by prime.\n",
        "\n",
        "Under noisy measurement:\n",
        "\n",
        "Noisy Z measurement: with probability $p_{mA}p_{mB}$ and $(1-p_{mA})(1-p_{mB})$ calculate the coefficient of $|\\Phi^+\\rangle$ and $|\\Phi^-\\rangle$ and with probability $(1-p_{mA})p_{mB}$ and $p_{mA}(1-p_{mB})$ calculate the coefficient of $|\\Psi^+\\rangle$ and $|\\Psi^-\\rangle$.\n",
        "\n",
        "Noisy X measurement: with probability $p_{mA}p_{mB}$ and $(1-p_{mA})(1-p_{mB})$ calculate the coefficient of $|\\Phi^+\\rangle$ and $|\\Psi^+\\rangle$ and with probability $(1-p_{mA})p_{mB}$ and $p_{mA}(1-p_{mB})$ calculate the coefficient of $|\\Phi^-\\rangle$ and $|\\Psi^-\\rangle$."
      ],
      "metadata": {
        "id": "x6vW-YKyBPCz"
      }
    },
    {
      "cell_type": "code",
      "source": [
        "def BellVector(p1, p2, p3, p4):\n",
        "  return [p1, p2, p3, p4]\n",
        "\n",
        "# Bell diagonal state\n",
        "def getBellDiagonalState(p1,p2,p3,p4):\n",
        "  return BellVector(p1, p2, p3, p4)\n",
        "\n",
        "def getRotatedBellDiagonalState(p1,p2,p3,p4):\n",
        "  return BellVector(p2, p1, p3, p4)\n",
        "# Werner state\n",
        "def getWernerState(w):\n",
        "  return BellVector(1.-3.*w/4., w/4., w/4., w/4.)\n",
        "\n",
        "# Apply X operation on Bell diagonal state\n",
        "def applyXtoBellVector(vector):\n",
        "  vectornew = [vector[1],vector[0],vector[3],vector[2]]\n",
        "  return vectornew\n",
        "\n",
        "# Apply Z operation on Bell diagonal state\n",
        "def applyZtoBellVector(vector):\n",
        "  vectornew = [vector[2],vector[3],vector[0],vector[1]]\n",
        "  return vectornew\n",
        "\n",
        "# Apply Y operation on Bell diagonal state\n",
        "def applyYtoBellVector(vector):\n",
        "  vectornew = [vector[3],vector[2],vector[1],vector[0]]\n",
        "  return vectornew\n",
        "\n",
        "# Dephasing parameter\n",
        "def getDephasingParameter(t,T2):\n",
        "  return 0.5*(1. - mt.exp(-t/T2))\n",
        "\n",
        "# Deploarizing parameter\n",
        "def getDepolarizingParameter(t,T1):\n",
        "  return 1. - mt.exp(-t/T1)\n",
        "\n",
        "# Dephasing function with Alice's parameter pA and Bob's parameter pB\n",
        "def applyDephasing(inputVector,t,T2):\n",
        "  pA = getDephasingParameter(t,T2) #Alice's Dephasing parameter\n",
        "  pB = getDephasingParameter(t,T2) #Bob's Dephasing parameter\n",
        "  return list(((1-pA)*(1-pB) + pA*pB)* np.array(inputVector) + ((1-pA)*pB + pA*(1-pB))* np.array(applyZtoBellVector(inputVector)))\n",
        "\n",
        "# Depolarizing function with Alice's parameter qA and Bob's parameter qB\n",
        "def applyDepolarizing(inputVector,t,T1):\n",
        "  qA = getDepolarizingParameter(t,T1) #Alice's Depolarizing parameter\n",
        "  qB = getDepolarizingParameter(t,T1) #Bob's Depolarizing parameter\n",
        "  return list((1.-3.*qA/4.)*(1.-3.*qB/4.)* np.array(inputVector) + \\\n",
        "   (qA*qB/16)* (2*np.array([1., 1., 1., 1.]) + np.array(inputVector)) + ((1-3*qA/4)*(qB/4) + \\\n",
        "    (1-3*qB/4)*(qA/4))*(np.array(applyXtoBellVector(inputVector)) + \\\n",
        "    np.array(applyYtoBellVector(inputVector)) + np.array(applyZtoBellVector(inputVector))))\n",
        "\n",
        "# Expression for general state after the action of dephasing and deploarizing noise\n",
        "def FinalStateAfterActionOfNoise(inputState,t,T1,T2):\n",
        "  return applyDepolarizing(applyDephasing(inputState,t,T2),t,T1)\n",
        "\n",
        "# Expression of two copy state rhoA1B1A2B2 where firstcopy A1B1 will undergo noise for time t and the second copy is noise free\n",
        "def rhoA1B1A2B2(inputState,t,T1,T2):\n",
        "  return np.kron(applyDepolarizing(applyDephasing(inputState,t,T2),t,T1),inputState)\n",
        "\n",
        "# State after the action of noisy CNOT@CNOT\n",
        "def applyCNOT1(inputMatrix,y1,y2):\n",
        "  inputMatrixNew = [inputMatrix[0], inputMatrix[1], inputMatrix[10], \\\n",
        "  inputMatrix[11], inputMatrix[5], inputMatrix[4], inputMatrix[15], \\\n",
        "  inputMatrix[14], inputMatrix[8], inputMatrix[9], inputMatrix[2], \\\n",
        "  inputMatrix[3], inputMatrix[13], inputMatrix[12], inputMatrix[7], inputMatrix[6]]\n",
        "  return list((1-y1)*(1-y2)* np.array(inputMatrixNew) + (y1*y2/16.+(1-y1)*y2/4.+(1-y2)*y1/4.) *np.kron([1.,1.,1.,1.], [1.,1.,1.,1.]))\n",
        "\n",
        "# Effect of Noisy Z measurement with probability p up projector and probability (1-p) down projector on A2B2 part\n",
        "def NoisyMeasurementZBasis(inputVector, mA, mB):\n",
        "  return (mA*mB + (1.-mA)*(1.-mB))*(1./2.)*(inputVector[0] + inputVector[2] + \\\n",
        "      inputVector[4] + inputVector[6] + inputVector[8] + inputVector[10] + \\\n",
        "      inputVector[12] + inputVector[14]) + ((1.-mA)*mB + mA*(1.-mB))*(1./2.)* \\\n",
        "      (inputVector[1] + inputVector[3] + inputVector[5] + inputVector[7] + \\\n",
        "      inputVector[9] + inputVector[11] + inputVector[13] + inputVector[15])\n",
        "\n",
        "# Effect of Noisy X measurement with probability p up projector and probability (1-p) down projector on A1B1 part\n",
        "def NoisyMeasurementXBasis(inputVector, mA, mB):\n",
        "  return (mA*mB + (1.-mA)*(1.-mB))*(1./2.)*(inputVector[0] + inputVector[1] + \\\n",
        "      inputVector[2] + inputVector[3] + inputVector[4] + inputVector[5] + \\\n",
        "      inputVector[6] + inputVector[7]) + ((1.-mA)*mB + mA*(1.-mB))*(1./2.)* \\\n",
        "      (inputVector[8] + inputVector[9] + inputVector[10] + inputVector[11] + \\\n",
        "      inputVector[12] + inputVector[13] + inputVector[14] + inputVector[15])\n",
        "#print(NoisyMeasurementXBasis(np.kron([0,0,0,1],[0,0,0,1]), 0, 0))\n",
        "# Calculation of p001 for Bell diagonal state when Alice and Bob are measuring their second copy on Z basis i.e, on A2B2 part\n",
        "def p001(p1,p2,p3,p4,t,T1,T2,y1,y2,mZA,mZB):\n",
        "  return NoisyMeasurementZBasis(applyCNOT1(rhoA1B1A2B2(getBellDiagonalState(p1,p2,p3,p4),t,T1,T2),y1,y2),mZA,mZB)\n",
        "\n",
        "# Calculation of p002 for Bell diagonal state when Alice and Bob are measuring their first copy on X basis i.e, on A2B2 part\n",
        "def p002(p1,p2,p3,p4,t,T1,T2,y1,y2,mXA,mXB):\n",
        "  return NoisyMeasurementXBasis(applyCNOT1(rhoA1B1A2B2(getBellDiagonalState(p1,p2,p3,p4),t,T1,T2),y1,y2),mXA,mXB)\n",
        "\n",
        "#Calculation for p003 for Bell diagonal state when Alice and Bob are measuring their second copy on Z basis on the Bilateral X-rotated Bell state\n",
        "def p003(p1,p2,p3,p4,t,T1,T2,y1,y2,mZA,mZB):\n",
        "  return NoisyMeasurementZBasis(applyCNOT1(rhoA1B1A2B2(getRotatedBellDiagonalState(p1,p2,p3,p4),t,T1,T2),y1,y2),mZA,mZB)"
      ],
      "metadata": {
        "id": "FbyanmAmBk2t",
        "colab": {
          "base_uri": "https://localhost:8080/"
        },
        "outputId": "3a142365-a249-4d66-ee84-bc06a69d9323"
      },
      "execution_count": null,
      "outputs": [
        {
          "output_type": "stream",
          "name": "stdout",
          "text": [
            "0.4546826882694955\n",
            "0.41758001150890983\n",
            "0.4546826882694955\n"
          ]
        }
      ]
    },
    {
      "cell_type": "markdown",
      "source": [
        "# Place all input variables here"
      ],
      "metadata": {
        "id": "pTYPCztBEE4i"
      }
    },
    {
      "cell_type": "markdown",
      "source": [
        "For simulation of experiment"
      ],
      "metadata": {
        "id": "5HjIw40DEIgy"
      }
    },
    {
      "cell_type": "code",
      "source": [
        "#Bell parameters\n",
        "p1exp = 1.\n",
        "p2exp = 0.\n",
        "p3exp = 0\n",
        "p4exp = 0.\n",
        "\n",
        "# Some useful numbers\n",
        "eps = 1e-5\n",
        "epsilon = 0.01\n",
        "\n",
        "# Parameter related to dephasing and depolarizing noise\n",
        "T1 = 50.0\n",
        "T2 = 50.0\n",
        "\n",
        "# Initial parameter for noisy CNOT\n",
        "y1 = 0.\n",
        "y2 = 0.\n",
        "\n",
        "#Noisy measurement\n",
        "mZA = 1.0\n",
        "mZB = 1.0\n",
        "mXA = 1.0\n",
        "mXB = 1.0\n",
        "mYA = 1.0\n",
        "mYB = 1.0\n",
        "\n",
        "# Expeimental parameters\n",
        "Nsamples = 5\n",
        "pSuccess = 0.1\n",
        "#p00exp = ncount/Nsamples\n",
        "#tave = 1\n"
      ],
      "metadata": {
        "id": "Kok_FZcdBnk1"
      },
      "execution_count": null,
      "outputs": []
    },
    {
      "cell_type": "markdown",
      "source": [
        "# Simulation of experiment for evaluating p00exp\n",
        "\n",
        "After the first copy has been generated one need to wait (say) $t$ times for the second copy. And this $t$ will follow some geometric distribution with success probability $p_{success}$. If Nsamples is the number of times the distillation experment goes on, then we can calculate the probability of obtaining outcome $00, ++, HH$ by the following simulation."
      ],
      "metadata": {
        "id": "hzc-wL6REOdi"
      }
    },
    {
      "cell_type": "code",
      "source": [
        "# This is new definition of p00 to get rid of other noise parameters\n",
        "def p001Expected(p1,p2,p3,p4,t):\n",
        "  return p001(p1,p2,p3,p4,t,T1,T2,y1,y2,mZA,mZB) # Z basis\n",
        "\n",
        "def p002Expected(p1,p2,p3,p4,t):\n",
        "  return p002(p1,p2,p3,p4,t,T1,T2,y1,y2,mXA,mXB) # X basis\n",
        "\n",
        "def p003Expected(p1,p2,p3,p4,t):\n",
        "  return p003(p1,p2,p3,p4,t,T1,T2,y1,y2,mZA,mZB) # Rotated Bell state, Z basis\n",
        "\n",
        "\n",
        "np.random.seed(8888)\n",
        "# generate t array (geometric distribution) and x array (uniform distribution)\n",
        "#tArray = np.random.geometric(pSuccess, Nsamples)\n",
        "tArray=[5,5,5,5,5]\n",
        "\n",
        "# Calculation for p001 i.e, (Bell state with Z measurement on second copy)\n",
        "# Calculating p001 average which we will use for inverting p001 to Bell parameters\n",
        "def p001samples(p1,p2,p3,p4, Nsamples, tArray):\n",
        "  # p00 sum over i\n",
        "  p001sum = 0.\n",
        "\n",
        "  i = 0\n",
        "\n",
        "  while i < Nsamples:\n",
        "    # calculate p00 per instance i\n",
        "    p001sum += p001Expected(p1,p2,p3,p4,tArray[i])\n",
        "\n",
        "    i += 1\n",
        "\n",
        "  return p001sum/Nsamples\n",
        "\n",
        "# Simulation of experiment by calculating p001 by performing the experiment Nsamples time where t is choosen from geometric distribution\n",
        "def p001Experimental(p1exp, p2exp, p3exp, p4exp, Nsamples, pSuccess, tArray):\n",
        "  # initialize counting 00's\n",
        "  Ncount = 0.\n",
        "  i = 0\n",
        "\n",
        "  while i < Nsamples:\n",
        "    # we count the 00's\n",
        "    # uniformly sample for some success probability\n",
        "    x = random.uniform(0.,1.)\n",
        "\n",
        "    # compare the success probabilty\n",
        "    if x < p001Expected(p1exp, p2exp, p3exp, p4exp, tArray[i]):\n",
        "      # count successful p00's\n",
        "      Ncount +=1\n",
        "\n",
        "    i += 1\n",
        "\n",
        "  # calculation of p001exp\n",
        "  return Ncount/Nsamples\n",
        "\n",
        "# Calculation for p002 i.e, (Bell state with X measurement on first copy)\n",
        "# Calculating p002 average which we will use for inverting p002 to Bell parameter\n",
        "def p002samples(p1,p2,p3,p4, Nsamples, tArray):\n",
        "  # p00 sum over i\n",
        "  p00sum2 = 0.\n",
        "\n",
        "  i = 0\n",
        "\n",
        "  while i < Nsamples:\n",
        "    # calculate p00 per instance i\n",
        "    p00sum2 += p002Expected(p1,p2,p3,p4,tArray[i])\n",
        "\n",
        "    i += 1\n",
        "\n",
        "  return p00sum2/Nsamples\n",
        "\n",
        "# Simulation of experiment by calculating p002 by performing the experiment Nsamples time where t is choosen from geometric distribution\n",
        "def p002Experimental(p1exp, p2exp, p3exp, p4exp, Nsamples, pSuccess, tArray):\n",
        "  # initialize counting 00's\n",
        "  Ncount = 0.\n",
        "  i = 0\n",
        "\n",
        "  while i < Nsamples:\n",
        "    # we count the 00's\n",
        "    # uniformly sample for some success probability\n",
        "    x = random.uniform(0.,1.)\n",
        "\n",
        "    # compare the success probabilty\n",
        "    if x < p002Expected(p1exp, p2exp, p3exp, p4exp, tArray[i]):\n",
        "      # count successful p00's\n",
        "      Ncount +=1\n",
        "\n",
        "    i += 1\n",
        "\n",
        "  # calculation of p00exp\n",
        "  return Ncount/Nsamples\n",
        "\n",
        "\n",
        "# Calculation for p003 i.e, (Rotated Bell state with Z measurement on second copy)\n",
        "# Calculating p003 average which we will use for inverting p003 to Bell parameter\n",
        "def p003samples(p1,p2,p3,p4, Nsamples, tArray):\n",
        "  # p00 sum over i\n",
        "  p00sum3 = 0.\n",
        "\n",
        "  i = 0\n",
        "\n",
        "  while i < Nsamples:\n",
        "    # calculate p00 per instance i\n",
        "    p00sum3 += p003Expected(p1,p2,p3,p4,tArray[i])\n",
        "\n",
        "    i += 1\n",
        "\n",
        "  return p00sum3/Nsamples\n",
        "\n",
        "# Simulation of experiment by calculating p003 by performing the experiment Nsamples time where t is choosen from geometric distribution\n",
        "def p003Experimental(p1exp, p2exp, p3exp, p4exp, Nsamples, pSuccess, tArray):\n",
        "  # initialize counting 00's\n",
        "  Ncount = 0.\n",
        "  i = 0\n",
        "\n",
        "  while i < Nsamples:\n",
        "    # we count the 00's\n",
        "    # uniformly sample for some success probability\n",
        "    x = random.uniform(0.,1.)\n",
        "\n",
        "    # compare the success probabilty\n",
        "    if x < p003Expected(p1exp, p2exp, p3exp, p4exp, tArray[i]):\n",
        "      # count successful p00's\n",
        "      Ncount +=1\n",
        "\n",
        "    i += 1\n",
        "\n",
        "  # calculation of p00exp\n",
        "  return Ncount/Nsamples\n",
        "\n",
        "# This is just for checking if instead of smulating experiment we get actual p00 value corresponding to Bell parameters in presence of all kind of noise\n",
        "def p00expn(p1exp, p2exp, p3exp, p4exp):\n",
        "  i = 0\n",
        "  p001expNew = 0\n",
        "  p002expNew = 0\n",
        "  p003expNew = 0\n",
        "  while i < Nsamples:\n",
        "    p001expNew += p001Expected(p1exp, p2exp, p3exp, p4exp, tArray[i])\n",
        "    p002expNew += p002Expected(p1exp, p2exp, p3exp, p4exp, tArray[i])\n",
        "    p003expNew += p003Expected(p1exp, p2exp, p3exp, p4exp, tArray[i])\n",
        "    i = i+1\n",
        "  return p001expNew/Nsamples, p002expNew/Nsamples, p003expNew/Nsamples\n",
        "p001exp2 = p00expn(p1exp, p2exp, p3exp, p4exp)[0]\n",
        "p002exp2 = p00expn(p1exp, p2exp, p3exp, p4exp)[1]\n",
        "p003exp2 = p00expn(p1exp, p2exp, p3exp, p4exp)[2]\n"
      ],
      "metadata": {
        "id": "IgayFwzmBqQt"
      },
      "execution_count": null,
      "outputs": []
    },
    {
      "cell_type": "markdown",
      "source": [
        "# Inverting $p_{00}, p_{++}, p_{HH}$ to estimate $p_1,p_2,p_3,p_4$\n",
        "We use sympy method for invertion"
      ],
      "metadata": {
        "id": "xL7z24zREvuz"
      }
    },
    {
      "cell_type": "code",
      "source": [
        "import sympy as sym\n",
        "from sympy import solve\n",
        "p1,p2,p3,p4 = sym.symbols('p1,p2,p3,p4', Real=True)\n",
        "eq1 = sym.Eq(p001samples(p1, p2, p3, p4, Nsamples, tArray), p001exp2)\n",
        "eq2 = sym.Eq(p002samples(p1, p2, p3, p4, Nsamples, tArray), p002exp2)\n",
        "eq3 = sym.Eq(p003samples(p1, p2, p3, p4, Nsamples, tArray), p003exp2)\n",
        "eq4 = sym.Eq(p1 + p2 + p3 + p4, 1)\n",
        "result = sym.solve([eq1,eq2,eq3,eq4],(p1,p2,p3,p4))\n",
        "print(result)"
      ],
      "metadata": {
        "colab": {
          "base_uri": "https://localhost:8080/"
        },
        "id": "5A_b0s-oF_Z7",
        "outputId": "eb4f8f6a-f8b9-4044-dd22-838e3337c8d6"
      },
      "execution_count": null,
      "outputs": [
        {
          "output_type": "stream",
          "name": "stdout",
          "text": [
            "[(-0.500000000000000, 0.499999999999999, 0.500000000000000, 0.500000000000000), (-2.31232828134397e-16, -2.31232828134397e-16, 6.46509765908855e-16, 1.00000000000000), (-2.31232828134397e-16, -2.31232828134397e-16, 1.00000000000000, 6.46509765908855e-16), (6.46509765908855e-16, 1.00000000000000, -2.31232828134397e-16, -2.31232828134397e-16), (0.499999999999999, -0.500000000000000, 0.500000000000000, 0.500000000000000), (0.500000000000000, 0.500000000000000, -0.500000000000000, 0.499999999999999), (0.500000000000000, 0.500000000000000, 0.499999999999999, -0.500000000000000), (1.00000000000000, 6.46509765908855e-16, -2.31232828134397e-16, -2.31232828134397e-16)]\n"
          ]
        }
      ]
    },
    {
      "cell_type": "markdown",
      "source": [
        "# Other methods for inversion"
      ],
      "metadata": {
        "id": "0rlXbA7Igpha"
      }
    },
    {
      "cell_type": "markdown",
      "source": [
        "Using Gekko"
      ],
      "metadata": {
        "id": "lXLrsJQVGFlL"
      }
    },
    {
      "cell_type": "code",
      "source": [
        "pip install gekko"
      ],
      "metadata": {
        "id": "Xrybwr24GEbz"
      },
      "execution_count": null,
      "outputs": []
    },
    {
      "cell_type": "code",
      "source": [
        "from gekko import GEKKO\n",
        "\n",
        "#initialize a GEKKO model\n",
        "m = GEKKO()\n",
        "\n",
        "#add GEKKO variables\n",
        "p1 = m.Var(value = 0, lb=0, ub=1)\n",
        "p2 = m.Var(value = 0, lb=0, ub=1)\n",
        "p3 = m.Var(value = 0, lb=0, ub=1)\n",
        "p4 = m.Var(value = 0, lb=0, ub=1)\n",
        "\n",
        "\n",
        "#define the constraints\n",
        "m.Equation(p001samples(p1, p2, p3, p4, Nsamples, tArray) == p001exp2)\n",
        "m.Equation(p002samples(p1, p2, p3, p4, Nsamples, tArray) == p002exp2)\n",
        "m.Equation(p003samples(p1, p2, p3, p4, Nsamples, tArray) == p003exp2)\n",
        "m.Equation(p1 + p2 + p3 + p4 == 1.)\n",
        "\n",
        "#solve a system of non-dynamic equations\n",
        "m.options.IMODE = 1\n",
        "m.solve(disp=False)\n",
        "\n",
        "print(p1.value,p2.value,p3.value,p4.value)"
      ],
      "metadata": {
        "id": "ucTqzJUwORsg"
      },
      "execution_count": null,
      "outputs": []
    },
    {
      "cell_type": "markdown",
      "source": [
        "Using scipy"
      ],
      "metadata": {
        "id": "RwoypoLxGKLT"
      }
    },
    {
      "cell_type": "code",
      "source": [
        "import scipy.optimize as opt\n",
        "from scipy.optimize import fsolve\n",
        "def f(variables):\n",
        "  (p1, p2, p3, p4) = variables\n",
        "  first_eq = p001samples(p1, p2, p3, p4, Nsamples, tArray) - p001exp2\n",
        "  second_eq = p002samples(p1, p2, p3, p4, Nsamples, tArray) - p002exp2\n",
        "  third_eq = p003samples(p1, p2, p3, p4, Nsamples, tArray) - p003exp2\n",
        "  fourth_eq = p1 + p2 +p3 +p4 - 1.\n",
        "  return [first_eq, second_eq, third_eq, fourth_eq]\n",
        "\n",
        "solution = opt.fsolve(f, (1,0.3,0,0) )\n",
        "print(solution)"
      ],
      "metadata": {
        "id": "QB3T5AVt5Sd_",
        "colab": {
          "base_uri": "https://localhost:8080/"
        },
        "outputId": "33eb1e04-7083-403f-e786-6b70aa9a6b39"
      },
      "execution_count": null,
      "outputs": [
        {
          "output_type": "stream",
          "name": "stdout",
          "text": [
            "[ 9.99999990e-01  9.79249744e-09  1.02124865e-08 -1.00421239e-08]\n"
          ]
        }
      ]
    },
    {
      "cell_type": "code",
      "source": [
        "import scipy.optimize as opt\n",
        "from scipy.optimize import fsolve\n",
        "\n",
        "def myFunction(z):\n",
        "  p1=z[0]\n",
        "  p2=z[1]\n",
        "  p3=z[2]\n",
        "  p4=z[3]\n",
        "  F=np.empty(4)\n",
        "  F[0] = p001samples(p1, p2, p3, p4, Nsamples, tArray) - p001exp2\n",
        "  F[1] = p002samples(p1, p2, p3, p4, Nsamples, tArray) - p002exp2\n",
        "  F[2] = p003samples(p1, p2, p3, p4, Nsamples, tArray) - p003exp2\n",
        "  F[3] = p1 + p2 +p3 +p4 - 1.\n",
        "  return F\n",
        "zGuess = np.array([0.99,0.0,0.5,0.5])\n",
        "z = fsolve(myFunction, zGuess)\n",
        "print(z)\n",
        "\n",
        "#def f(variables):\n",
        "#  (p1, p2, p3, p4) = variables\n",
        "#  first_eq = p00Zsamples(p1, p2, p3, p4, Nsamples, tArray) - p00expZ2\n",
        "#  second_eq = p00Xsamples(p1, p2, p3, p4, Nsamples, tArray) - p00expX2\n",
        "#  third_eq = p00Ysamples(p1, p2, p3, p4, Nsamples, tArray) - p00expY2\n",
        "#  fourth_eq = p1 + p2 +p3 +p4 - 1.\n",
        "#  return [first_eq, second_eq, third_eq, fourth_eq]\n",
        "\n",
        "#solution = opt.fsolve(f, (.7,0.3,0,0) )\n",
        "#print(solution)"
      ],
      "metadata": {
        "colab": {
          "base_uri": "https://localhost:8080/"
        },
        "id": "4MrkB_X9cLSb",
        "outputId": "d7501799-1fea-4f0d-ea3c-2c4eb2d71850"
      },
      "execution_count": null,
      "outputs": [
        {
          "output_type": "stream",
          "name": "stdout",
          "text": [
            "[ 1.1231204 -0.1231204 -0.1231204  0.1231204]\n"
          ]
        }
      ]
    },
    {
      "cell_type": "code",
      "source": [
        "import scipy.optimize as opt\n",
        "from scipy.optimize import fsolve\n",
        "from scipy.optimize import minimize\n",
        "\n",
        "def myFunction(z):\n",
        "  p1=z[0]\n",
        "  p2=z[1]\n",
        "  p3=z[2]\n",
        "  p4=z[3]\n",
        "  F=np.empty(4)\n",
        "  F[0] = p001samples(p1, p2, p3, p4, Nsamples, tArray) - p001exp2\n",
        "  F[1] = p002samples(p1, p2, p3, p4, Nsamples, tArray) - p002exp2\n",
        "  F[2] = p003samples(p1, p2, p3, p4, Nsamples, tArray) - p003exp2\n",
        "  F[3] = p1 + p2 +p3 +p4 - 1.\n",
        "  return F\n",
        "\n",
        "zGuess = np.array([0.99,0.0,0.5,0.5])\n",
        "p1=[0,1]\n",
        "p2=[0,1]\n",
        "p3=[0,1]\n",
        "p4=[0,1]\n",
        "z = fsolve(myFunction, zGuess)\n",
        "print(z)"
      ],
      "metadata": {
        "id": "Vj2x4V86sLKb",
        "colab": {
          "base_uri": "https://localhost:8080/"
        },
        "outputId": "d583ed48-eda0-4f70-9dbc-e24bbd2b4b32"
      },
      "execution_count": null,
      "outputs": [
        {
          "output_type": "stream",
          "name": "stdout",
          "text": [
            "[ 1.1231204 -0.1231204 -0.1231204  0.1231204]\n"
          ]
        }
      ]
    },
    {
      "cell_type": "code",
      "source": [],
      "metadata": {
        "id": "yC8_dxnv7yJV"
      },
      "execution_count": null,
      "outputs": []
    }
  ]
}