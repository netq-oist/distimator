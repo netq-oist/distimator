{
  "nbformat": 4,
  "nbformat_minor": 0,
  "metadata": {
    "colab": {
      "provenance": [],
      "include_colab_link": true
    },
    "kernelspec": {
      "name": "python3",
      "display_name": "Python 3"
    },
    "language_info": {
      "name": "python"
    }
  },
  "cells": [
    {
      "cell_type": "markdown",
      "metadata": {
        "id": "view-in-github",
        "colab_type": "text"
      },
      "source": [
        "<a href=\"https://colab.research.google.com/github/netq-oist/estimation-public/blob/main/Estimation_of_w.ipynb\" target=\"_parent\"><img src=\"https://colab.research.google.com/assets/colab-badge.svg\" alt=\"Open In Colab\"/></a>"
      ]
    },
    {
      "cell_type": "markdown",
      "source": [
        "# Preamble\n",
        "Given a state of Werner form $\\rho_w = (1-w)|\\Phi^+\\rangle\\langle \\Phi^+| + \\frac{w}{4}\\mathbb{I}$, the aim is to estimate the value of $w$. We consider, estimation of $w$ from the measurement statistics of a distillation protocol. The distillation protocol is as follows.\n",
        "1) Alice and Bob start with two copies of a noisy entangled state. Here, we assume that the state is a Werner state.\n",
        "\n",
        "2) Each applies local XOR operations on the local parts of their two copies, with one copy as the control and another one as the target.\n",
        "\n",
        "3) Each of them measures the target qubit in the $Z$-basis and communicates the results classically.\n",
        "\n",
        "4) If they obtain correlated outcomes i.e, $00,11$ they keep the unmeasured copy, otherwise they discard the state.\n",
        "\n",
        "From this $p_{00}$ our aim is to invert $w$ even in presence of noise."
      ],
      "metadata": {
        "id": "U5PX72UrXsUk"
      }
    },
    {
      "cell_type": "code",
      "execution_count": 1,
      "metadata": {
        "id": "hYAnJvHM3U0x"
      },
      "outputs": [],
      "source": [
        "import numpy as np\n",
        "import math as mt\n",
        "import numpy.linalg as nl\n",
        "import functools\n",
        "import random\n",
        "\n",
        "import matplotlib.pyplot as plt\n",
        "\n",
        "def multikron(arrays):\n",
        "  return functools.reduce(np.kron, arrays)\n",
        "\n",
        "# up-down states\n",
        "up = np.matrix([[1.0],[0.0]])\n",
        "down = np.matrix([[0.0],[1.0]])\n",
        "\n",
        "# Pauli matrices\n",
        "s0 = np.matrix([[1.0, 0.0],[0.0, 1.0]])      # I_2\n",
        "s1 = np.matrix([[0.0, 1.0],[1.0, 0.0]])      # Pauli-X\n",
        "s2 = np.matrix([[0.0, -1j],[1j, 0.0]])       # Pauli-Y\n",
        "s3 = np.matrix([[1.0, 0.0],[0.0, -1.0]])     # Pauli-Z\n",
        "\n",
        "# Bell states\n",
        "phip = (1./mt.sqrt(2.0)) * np.matrix([ [1.], [0.], [0.], [1.]])\n",
        "phim = (1./mt.sqrt(2.0)) * np.matrix([ [1.], [0.], [0.], [-1.]])\n",
        "psip = (1./mt.sqrt(2.0)) * np.matrix([ [0.], [1.], [1.], [0.]])\n",
        "psim = (1./mt.sqrt(2.0)) * np.matrix([ [0.], [1.], [-1.], [0.]])\n",
        "\n",
        "# Gates\n",
        "CNOT = np.array([[1.0,0.0,0.0,0.0],\n",
        "                 [0.0,1.0,0.0,0.0],\n",
        "                 [0.0,0.0,0.0,1.0],\n",
        "                 [0.0,0.0,1.0,0.0]]) #CNOT gate\n",
        "\n",
        "SWAP = np.array([[1.0,0.0,0.0,0.0],\n",
        "                 [0.0,0.0,1.0,0.0],\n",
        "                 [0.0,1.0,0.0,0.0],\n",
        "                 [0.0,0.0,0.0,1.0]])  #SWAP gate\n",
        "\n",
        "ID = np.array([[1.0,0.0,0.0,0.0],\n",
        "                 [0.0,1.0,0.0,0.0],\n",
        "                 [0.0,0.0,1.0,0.0],\n",
        "                 [0.0,0.0,0.0,1.0]]) # 4X4 Identity matrix\n"
      ]
    },
    {
      "cell_type": "code",
      "source": [],
      "metadata": {
        "id": "aWjT5iVjYJvj"
      },
      "execution_count": null,
      "outputs": []
    },
    {
      "cell_type": "markdown",
      "source": [
        "# Action of noise and calculation of probability\n",
        "\n",
        "Werner state:  $\\rho_w = (1-w)|\\Phi^+\\rangle\\langle \\Phi^+| + \\frac{w}{4}\\mathbb{I}$\n",
        "\n",
        "Dephasing parameter $p = \\frac{1}{2}(1-e^{-\\frac{t}{T_2}})$ and depolarizing parameter $q = (1-e^{-\\frac{t}{T_1}})$\n",
        "\n",
        "Action of dephasing operation\n",
        "$\\Lambda_{deph} (\\rho) = (1-p)\\rho + p \\sigma_Z \\rho \\sigma_Z$\n",
        "\n",
        "Action of depolarizing operation\n",
        "$\\Lambda_{depol} (\\rho) = (1-q)\\rho + \\frac{q}{2} \\mathbb{I}$\n",
        "\n",
        "Final state after the action of these two noise\n",
        "$\\Lambda_{depol}(\\Lambda_{deph}(\\rho_w))$\n",
        "\n",
        "In order to reshuffle the state from $\\rho_{A_1B_1A_2B_2}$ to $\\rho_{A_1A_2B_1B_2}$, apply SWAP in $B_1A_2$ part i.e, $\\mathbb{I}_{A_1} \\otimes SWAP_{B_1A_2} \\otimes \\mathbb{I}_{A_2}$\n",
        "\n",
        "Action of noisy CNOT on $\\rho_{A_1A_2B_1B_2}$\n",
        "\n",
        "\\begin{align}\n",
        "\\Lambda_{\\text{CNOT}}(\\rho_{A_1 A_2 B_1 B_2})\n",
        "=\\quad &(1-y_1)(1-y_2) \\,\\text{CNOT}_{A_1 A_2}\\otimes \\text{CNOT}_{B_1 B_2} \\,  \\rho_{A_1A_2B_1B_2} \\,\\text{CNOT}_{A_1 A_2} \\otimes \\text{CNOT}_{B_1 B_2}\\\\\n",
        "+ &\\frac{y_2(1-y_1)}{4} \\,\\text{CNOT}_{A_1 A_2}\\otimes I_{B_1 B_2} \\,  \\rho_{A_1A_2B_1B_2} \\,\\text{CNOT}_{A_1 A_2} \\otimes I_{B_1 B_2}\\\\\n",
        "+ &\\frac{y_1(1-y_2)}{4}\\,I_{A_1 A_2}\\otimes\\text{CNOT}_{B_1 B_2} \\,  \\rho_{A_1A_2B_1B_2} \\,I_{A_1 A_2}\\otimes\\text{CNOT}_{B_1 B_2}\\\\\n",
        "+ &\\frac{y_1 y_2}{16} \\mathbb{I}\n",
        "\\end{align}\n",
        "\n",
        "Final state after all the noise acion is\n",
        "\\begin{equation}\n",
        "\\rho_{final} = \\Lambda_{\\text{CNOT}}((\\mathbb{I} \\otimes SWAP \\otimes \\mathbb{I})(\\Lambda_{depol}(\\Lambda_{deph}(\\rho_w)) \\otimes \\rho_w)(\\mathbb{I} \\otimes SWAP \\otimes \\mathbb{I}))\n",
        "\\end{equation}\n",
        "\n",
        "Noisy measurement:  $M_{p}= p |0\\rangle\\langle 0|+ (1-p)|1\\rangle\\langle 1|$\n",
        "Probability of getting 00 outcome is given by Born rule\n",
        "\\begin{equation}\n",
        "p_{00} = Tr[ \\langle M_{p_A}|_{A_2} \\langle M_{p_B}|_{B_2} (\\rho_{final}) |M_{p_A}⟩_{A_2} |M_{p_B}⟩_{B_2} ]\n",
        "\\end{equation}\n",
        "\n",
        "# Calculation in terms of Bell vector\n",
        "$\\rho = p_1 |\\Phi^+\\rangle\\langle \\Phi^+| + p_2 |\\Psi^+\\rangle\\langle \\Psi^+| + p_3 |\\Phi^-\\rangle\\langle \\Phi^-| + p_4 |\\Psi^-\\rangle\\langle \\Psi^-|$\n",
        "\n",
        "Action of X operator: $(\\mathbb{I} \\otimes X)(p_1, p_2, p_3, p_4) ⇒ (p_2, p_1, p_4, p_3)$\n",
        "\n",
        "Action of Z operator: $(\\mathbb{I} \\otimes Z)(p_1, p_2, p_3, p_4) ⇒ (p_3, p_4, p_1, p_2)$\n",
        "\n",
        "Action of Y operator: $(\\mathbb{I} \\otimes Y)(p_1, p_2, p_3, p_4) ⇒ (p_4, p_3, p_2, p_1)$\n",
        "\n",
        "Therefore, under dephasing: $(\\Lambda_{deph})(p_1, p_2, p_3, p_4) ⇒ ((1-p_A)(1-p_B) + p_Ap_B)(p_1, p_2, p_3, p_4) + (p_A(1-p_B) + p_B(1-p_A))(p_3, p_4, p_1, p_2)$.\n",
        "\n",
        "Under depolarising: $(\\Lambda_{depol})(p_1, p_2, p_3, p_4) ⇒ (1-3q_A/4)(1-3q_B/4)(p_1, p_2, p_3, p_4)  + (q_Aq_B/16)(2(1, 1, 1, 1) + (p_1, p_2, p_3, p_4)) + ((1-3q_A/4)q_B/4 +(1-3q_B/4)q_A/4)((p_2, p_1, p_4, p_3)+(p_3, p_4, p_1, p_2)+(p_4, p_3, p_2, p_1))$.\n",
        "\n",
        "Under CNOT: $p_1p_1' → p_1p_1', p_1p_2' → p_1p_2', p_1p_3' → p_3p_3', p_1p_4' → p_3p_4', p_2p_1' → p_2p_2', p_2p_2' → p_2p_1', p_2p_3' → p_4p_4', p_2p_4' → p_4p_3',   p_3p_1' → p_3p_1', p_3p_2' → p_3p_2', p_3p_3' → p_1p_3', p_3p_4' → p_1p_4', p_4p_1' → p_4p_2', p_4p_2' → p_4p_1', p_4p_3' → p_2p_4', p_4p_4' → p_2p_3'$ where the coefficients corresponding to the second copy are denoted by prime.\n",
        "\n",
        "Under noisy measurement: with probability $p_{mA}p_{mB}$ and $(1-p_{mA})(1-p_{mB})$ calculate the coefficient of $|\\Phi^+\\rangle$ and $|\\Phi^-\\rangle$ and with probability $(1-p_{mA})p_{mB}$ and $p_{mA}(1-p_{mB})$ calculate the coefficient of $|\\Psi^+\\rangle$ and $|\\Psi^-\\rangle$."
      ],
      "metadata": {
        "id": "5jKfz9Bwewxb"
      }
    },
    {
      "cell_type": "code",
      "source": [
        "def BellVector(p1, p2, p3, p4):\n",
        "  return [p1, p2, p3, p4]\n",
        "\n",
        "# Werner state\n",
        "def getWernerState(w):\n",
        "  return BellVector(1.-3.*w/4., w/4., w/4., w/4.)\n",
        "\n",
        "# Apply X operation on Bell diagonal state\n",
        "def applyXtoBellVector(vector):\n",
        "  vectornew = [vector[1],vector[0],vector[3],vector[2]]\n",
        "  return vectornew\n",
        "\n",
        "# Apply Z operation on Bell diagonal state\n",
        "def applyZtoBellVector(vector):\n",
        "  vectornew = [vector[2],vector[3],vector[0],vector[1]]\n",
        "  return vectornew\n",
        "\n",
        "# Apply Y operation on Bell diagonal state\n",
        "def applyYtoBellVector(vector):\n",
        "  vectornew = [vector[3],vector[2],vector[1],vector[0]]\n",
        "  return vectornew\n",
        "\n",
        "# Dephasing parameter\n",
        "def getDephasingParameter(t,T2):\n",
        "  return 0.5*(1. - mt.exp(-t/T2))\n",
        "\n",
        "# Deploarizing parameter\n",
        "def getDepolarizingParameter(t,T1):\n",
        "  return 1. -mt.exp(-t/T1)\n",
        "\n",
        "# Dephasing function with Alice's parameter pA and Bob's parameter pB\n",
        "def applyDephasing(inputVector,t,T2):\n",
        "  pA = getDephasingParameter(t,T2) #Alice's Dephasing parameter\n",
        "  pB = getDephasingParameter(t,T2) #Bob's Dephasing parameter\n",
        "  return list(((1-pA)*(1-pB) + pA*pB)* np.array(inputVector) + ((1-pA)*pB + pA*(1-pB))* np.array(applyZtoBellVector(inputVector)))\n",
        "\n",
        "# Depolarizing function with Alice's parameter qA and Bob's parameter qB\n",
        "def applyDepolarizing(inputVector,t,T1):\n",
        "  qA = getDepolarizingParameter(t,T1) #Alice's Depolarizing parameter\n",
        "  qB = getDepolarizingParameter(t,T1) #Bob's Depolarizing parameter\n",
        "  return list((1.-3.*qA/4.)*(1.-3.*qB/4.)* np.array(inputVector) + \\\n",
        "   (qA*qB/16)* (2*np.array([1., 1., 1., 1.]) + np.array(inputVector)) + ((1-3*qA/4)*(qB/4) + \\\n",
        "    (1-3*qB/4)*(qA/4))*(np.array(applyXtoBellVector(inputVector)) + \\\n",
        "    np.array(applyYtoBellVector(inputVector)) + np.array(applyZtoBellVector(inputVector))))\n",
        "\n",
        "# Expression for general state after the action of dephasing and deploarizing noise\n",
        "def FinalStateAfterActionOfNoise(inputState,t,T1,T2):\n",
        "  return applyDepolarizing(applyDephasing(inputState,t,T2),t,T1)\n",
        "\n",
        "# Expression of two copy state rhoA1B1A2B2 where firstcopy A1B1 will undergo noise for time t and the second copy is noise free\n",
        "def rhoA1B1A2B2(inputState,t,T1,T2):\n",
        "  return np.kron(applyDepolarizing(applyDephasing(inputState,t,T2),t,T1),inputState)\n",
        "\n",
        "# State after the action of noisy CNOT@CNOT\n",
        "def applyCNOT1(inputMatrix,y1,y2):\n",
        "  inputMatrixNew = [inputMatrix[0], inputMatrix[1], inputMatrix[10], \\\n",
        "  inputMatrix[11], inputMatrix[5], inputMatrix[4], inputMatrix[15], \\\n",
        "  inputMatrix[14], inputMatrix[8], inputMatrix[9], inputMatrix[2], \\\n",
        "  inputMatrix[3], inputMatrix[13], inputMatrix[12], inputMatrix[7], inputMatrix[6]]\n",
        "  return list((1-y1)*(1-y2)* np.array(inputMatrixNew) + (y1*y2/16.+(1-y1)*y2/4.+(1-y2)*y1/4.) *np.kron([1.,1.,1.,1.], [1.,1.,1.,1.]))\n",
        "\n",
        "# Effect of Noisy Z measurement with probability p up projector and probability (1-p) down projector on A2B2 part\n",
        "def NoisyMeasurement(inputVector, mA, mB):\n",
        "  return (mA*mB + (1.-mA)*(1.-mB))*(1./2.)*(inputVector[0] + inputVector[2] + \\\n",
        "      inputVector[4] + inputVector[6] + inputVector[8] + inputVector[10] + \\\n",
        "      inputVector[12] + inputVector[14]) + ((1.-mA)*mB + mA*(1.-mB))*(1./2.)* \\\n",
        "      (inputVector[1] + inputVector[3] + inputVector[5] + inputVector[7] + \\\n",
        "      inputVector[9] + inputVector[11] + inputVector[13] + inputVector[15])\n",
        "\n",
        "# probability after noisy measurement on A2B2 part\n",
        "def p00(w,t,T1,T2,y1,y2,mA,mB):\n",
        "  return NoisyMeasurement(applyCNOT1(rhoA1B1A2B2(getWernerState(w),t,T1,T2),y1,y2),mA,mB)"
      ],
      "metadata": {
        "id": "AXC0WNT_YC9D"
      },
      "execution_count": 2,
      "outputs": []
    },
    {
      "cell_type": "markdown",
      "source": [
        "# Place all input variables here"
      ],
      "metadata": {
        "id": "aSQYPC4rYSNr"
      }
    },
    {
      "cell_type": "markdown",
      "source": [
        "For simulation of experiment"
      ],
      "metadata": {
        "id": "tm79XLipnn0p"
      }
    },
    {
      "cell_type": "code",
      "source": [
        "wexp = 0.0 # Here w need to choosen for simulation of experiment but obviously not for estimation\n",
        "\n",
        "# Some useful numbers\n",
        "eps = 1e-5\n",
        "epsilon = 0.01\n",
        "\n",
        "# Parameter related to dephasing and depolarizing noise\n",
        "T1 = 100.0\n",
        "T2 = 100.0\n",
        "\n",
        "# Initial parameter for noisy CNOT\n",
        "y1 = 0.1\n",
        "y2 = 0.1\n",
        "\n",
        "#Noisy measurement\n",
        "mA = 0.9\n",
        "mB = 0.9\n",
        "\n",
        "# Expeimental parameters\n",
        "Nsamples = 100\n",
        "pSuccess = 0.1\n",
        "#p00exp = ncount/Nsamples\n",
        "#tave = 1\n"
      ],
      "metadata": {
        "id": "wP32tAy2kSTL"
      },
      "execution_count": 3,
      "outputs": []
    },
    {
      "cell_type": "markdown",
      "source": [
        "# Simulation of experiment for evaluating p00exp\n",
        "\n",
        "After the first copy has been generated one need to wait (say) $t$ times for the second copy. And this $t$ will follow some geometric distribution with success probability $p_{success}$. If Nsamples is the number of times the distillation experment goes on, then we can calculate the probability of obtaining outcome 00 by the following simulation.\n",
        "\n"
      ],
      "metadata": {
        "id": "SW1I7HYyF2d0"
      }
    },
    {
      "cell_type": "code",
      "source": [
        "# This is new definition of p00 to get rid of other noise parameters\n",
        "def p00Expected(w,t):\n",
        "  return p00(w,t,T1,T2,y1,y2,mA,mB)\n",
        "\n",
        "np.random.seed(8888)\n",
        "# generate t array (geometric distribution) and x array (uniform distribution)\n",
        "tArray = np.random.geometric(pSuccess, Nsamples)\n",
        "#tArray=[2,3,6,2,3,4,5,2,3,5]\n",
        "\n",
        "# Calculating p00 average which we will use for inverting p00 to w\n",
        "def p00samples(w, Nsamples, tArray):\n",
        "  # p00 sum over i\n",
        "  p00sum = 0.\n",
        "\n",
        "  i = 0\n",
        "\n",
        "  while i < Nsamples:\n",
        "    # calculate p00 per instance i\n",
        "    p00sum += p00Expected(w,tArray[i])\n",
        "\n",
        "    i += 1\n",
        "\n",
        "  return p00sum/Nsamples\n",
        "\n",
        "# Simulation of experiment by calculating p00 by performing the experiment Nsamples time where t is choosen from geometric distribution\n",
        "def p00Experimental(wexp, Nsamples, pSuccess, tArray):\n",
        "  # initialize counting 00's\n",
        "  Ncount = 0.\n",
        "  i = 0\n",
        "\n",
        "  while i < Nsamples:\n",
        "    # we count the 00's\n",
        "    # uniformly sample for some success probability\n",
        "    x = random.uniform(0.,1.)\n",
        "\n",
        "    # compare the success probabilty\n",
        "    if x < p00Expected(wexp, tArray[i]):\n",
        "      # count successful p00's\n",
        "      Ncount +=1\n",
        "\n",
        "    i += 1\n",
        "\n",
        "  # calculation of p00exp\n",
        "  return Ncount/Nsamples\n",
        "\n",
        "# This is just for checking if instead of smulating experiment we get actual p00 value corresponding to w in presence of all kind of noise\n",
        "def p00expn(wexp):\n",
        "  i = 0\n",
        "  p00expNew = 0\n",
        "  while i < Nsamples:\n",
        "    p00expNew += p00Expected(wexp, tArray[i])\n",
        "    i = i+1\n",
        "  return p00expNew/Nsamples\n",
        "p00exp2 = p00expn(wexp)"
      ],
      "metadata": {
        "id": "ZXqagwoVF4Dj"
      },
      "execution_count": 4,
      "outputs": []
    },
    {
      "cell_type": "markdown",
      "source": [
        "# Inverting p00 to estimate w\n",
        "We use bisection method for inverting from $p_{00}$ to $w$"
      ],
      "metadata": {
        "id": "kh9RwUa-Gfh6"
      }
    },
    {
      "cell_type": "code",
      "source": [
        "p00exp = p00Experimental(wexp, Nsamples, pSuccess, tArray)\n",
        "\n",
        "# Inverting p00 to Werner parameter\n",
        "def invertWernerParam(p00exp, tArray, eps):\n",
        "  # initialize the w boundary values\n",
        "  wl = 0.\n",
        "  wr = 1.\n",
        "\n",
        "  # Calculate for the corresponding hat{p}_00 values\n",
        "  p00l = p00samples(wl, Nsamples, tArray)\n",
        "  p00r = p00samples(wr, Nsamples, tArray)\n",
        "\n",
        "  # count iterations\n",
        "  i = 0\n",
        "\n",
        "  # convergence test\n",
        "  nLim = np.ceil(np.log2(1./eps))\n",
        "\n",
        "  # Pick the left value to compare with p00exp\n",
        "  while abs(p00l - p00exp) > eps:\n",
        "    # Binary search\n",
        "    # Take w midpoint and calculate corresponding p00est\n",
        "    wm = (wr + wl)/2.\n",
        "    p00m = p00samples(wm, Nsamples, tArray)\n",
        "    #print(p00m)\n",
        "\n",
        "    # Change the boundaries\n",
        "    # Use the fact that over the range w = [0,1), p00 is monotonically decreasing\n",
        "    if p00m > p00exp:\n",
        "      wl = wm\n",
        "      p00l = p00m\n",
        "    else:\n",
        "      wr = wm\n",
        "      p00r = p00m\n",
        "\n",
        "    if i > nLim:\n",
        "      break\n",
        "\n",
        "    i += 1\n",
        "\n",
        "  return wl"
      ],
      "metadata": {
        "id": "z0wMGYP64Ga6"
      },
      "execution_count": 5,
      "outputs": []
    },
    {
      "cell_type": "code",
      "source": [
        "print(invertWernerParam(p00exp, tArray, eps))\n",
        "print(invertWernerParam(p00exp2, tArray, eps))"
      ],
      "metadata": {
        "id": "iG0Vfudt2fN1"
      },
      "execution_count": null,
      "outputs": []
    },
    {
      "cell_type": "markdown",
      "source": [
        "# Calculation for Hoeffdings inequality\n",
        "\n",
        "For $|\\hat{p}_{00} - p_{00}|  \\geq \\epsilon$ here we calculate what will be $\\epsilon'$ where $\\epsilon' \\equiv |\\hat{w}-w|$ and with what probability i.e, $Pr(|\\hat{w}-w| \\geq ϵ')$."
      ],
      "metadata": {
        "id": "0f_dG6AAei1r"
      }
    },
    {
      "cell_type": "code",
      "source": [
        "# Using Hoeffdings inequality\n",
        "def epsilon_w(p00exp,epsilon):\n",
        "  p00p = p00exp + epsilon\n",
        "  p00m = p00exp - epsilon\n",
        "  if p00m < 0.25:\n",
        "    p00m = 0.25\n",
        "  if p00p > 0.5:\n",
        "    p00p = 0.5\n",
        "  wp = invertWernerParam(p00p,tArray,eps)\n",
        "  wm = invertWernerParam(p00m,tArray,eps)\n",
        "  # Calculation of epsilon_w = |\\hat{w}-w|\n",
        "  return abs(wp-wm)\n",
        "print(epsilon_w(p00exp,epsilon))\n",
        "# Probability that Pr(|\\hat{w}-w| \\geq epsilon_w) is less than:\n",
        "def Probability(Nsamples,epsilon):\n",
        "  return mt.exp(-32*Nsamples*epsilon**2)\n",
        "print(Probability(Nsamples,epsilon))"
      ],
      "metadata": {
        "id": "6O5NDHmKej8C"
      },
      "execution_count": null,
      "outputs": []
    },
    {
      "cell_type": "markdown",
      "source": [
        "# Some results"
      ],
      "metadata": {
        "id": "fWMkT0X_JAeN"
      }
    },
    {
      "cell_type": "code",
      "source": [
        "# tArray and eps fixed\n",
        "\n",
        "p00expArray = np.linspace(0.25, 0.5, 20, endpoint=True)\n",
        "\n",
        "wArray = np.zeros(len(p00expArray))\n",
        "epswArray = np.zeros(len(p00expArray))\n",
        "\n",
        "for q in np.arange(len(p00expArray)):\n",
        "  print('Iteration',q+1)\n",
        "  wArray[q] = invertWernerParam(p00expArray[q], tArray, eps)\n",
        "  epswArray[q] = eps\n"
      ],
      "metadata": {
        "id": "ysb3x-DRp0Pq"
      },
      "execution_count": null,
      "outputs": []
    },
    {
      "cell_type": "code",
      "source": [
        "plt.style.use('classic')\n",
        "\n",
        "fig, ax = plt.subplots()\n",
        "ax.errorbar(p00expArray, -1.*wArray + 1., yerr=epswArray, fmt='.', ls='none')\n",
        "\n",
        "ax.set_xlabel(r'$p_{00\\mathrm{exp}}$', fontsize=24)\n",
        "ax.set_ylabel(r'$1-w_{\\mathrm{est}}$', fontsize=24)\n",
        "\n",
        "padx = 0.01\n",
        "pady = 0.05\n",
        "ax.set_xlim([0.25 - padx, 0.50 + padx])\n",
        "ax.set_ylim([0.00 - pady, 1.00 + pady])\n",
        "\n",
        "plt.show()"
      ],
      "metadata": {
        "colab": {
          "base_uri": "https://localhost:8080/",
          "height": 466
        },
        "id": "VkYqOsG92Drk",
        "outputId": "b90ca4f9-a376-48ab-9391-7fd26bdb3cb3"
      },
      "execution_count": null,
      "outputs": [
        {
          "output_type": "display_data",
          "data": {
            "text/plain": [
              "<Figure size 640x480 with 1 Axes>"
            ],
            "image/png": "[encoded data removed]"
          },
          "metadata": {}
        }
      ]
    },
    {
      "cell_type": "markdown",
      "source": [
        "# Testing for correctness"
      ],
      "metadata": {
        "id": "sQyCmjmcEJe5"
      }
    },
    {
      "cell_type": "code",
      "source": [
        "#Testing whether  p00  is evaluated correctly for completely noiseless scenario. Following two checks are for w=0 and w=1\n",
        "\n",
        "print(p00(0,0,1,1,0,0,1,1)) #p00 value from Bornrule when w=0 and noiseless scenario\n",
        "print(p00(1,0,1,1,0,0,1,1)) #p00 value from Bornrule when w=1 and noiseless scenario"
      ],
      "metadata": {
        "colab": {
          "base_uri": "https://localhost:8080/"
        },
        "id": "gxmnQRtTEd5I",
        "outputId": "b573d7d2-a8b8-4350-b946-115be08c105a"
      },
      "execution_count": 6,
      "outputs": [
        {
          "output_type": "stream",
          "name": "stdout",
          "text": [
            "0.5\n",
            "0.25\n"
          ]
        }
      ]
    },
    {
      "cell_type": "code",
      "source": [
        "#Testing whether p00sampling and inversion of w is evaluated correctly for completely noiseless scenario.\n",
        "Nsamples=20\n",
        "\n",
        "tArray=[0,0,0,0,0,0,0,0,0,0,0,0,0,0,0,0,0,0,0,0]\n",
        "# Parameter related to dephasing and depolarizing noise\n",
        "T1 = 100.0\n",
        "T2 = 100.0\n",
        "\n",
        "# Initial parameter for noisy CNOT\n",
        "y1 = 0.0\n",
        "y2 = 0.0\n",
        "\n",
        "#Noisy measurement\n",
        "mA = 1.0\n",
        "mB = 1.0\n",
        "\n",
        "\n",
        "print(p00samples(0, 20, [0,0,0,0,0,0,0,0,0,0,0,0,0,0,0,0,0,0,0,0])) # sampling p00 when w =0 in absence of noise\n",
        "print(p00samples(1, 20, [0,0,0,0,0,0,0,0,0,0,0,0,0,0,0,0,0,0,0,0])) # sampling p00 when w =1 in absence of noise\n",
        "\n",
        "print(invertWernerParam(0.25, tArray, 1e-5)) #inversion in absence of any noise when p00 = 0.25\n",
        "print(invertWernerParam(0.50, tArray, 1e-5)) #inversion in absence of any noise when p00 = 0.50"
      ],
      "metadata": {
        "colab": {
          "base_uri": "https://localhost:8080/"
        },
        "id": "aLRXy87ZFJu4",
        "outputId": "fcad2913-3b07-4dfc-ab75-e6b5b0f0845c"
      },
      "execution_count": 7,
      "outputs": [
        {
          "output_type": "stream",
          "name": "stdout",
          "text": [
            "0.5\n",
            "0.25\n",
            "0.99609375\n",
            "0.0\n"
          ]
        }
      ]
    },
    {
      "cell_type": "markdown",
      "source": [
        "Testing whether the inversion is correct or not in noiseless scenario. For that we take some arrays of $w \\in [0,1]$ (which we call $w_{real}$) and calculate $p_{00}$ and then again inverting to have $w_{est}$. We then plot $w_{est}$ vs $w_{real}$."
      ],
      "metadata": {
        "id": "A38V8kFJdfb5"
      }
    },
    {
      "cell_type": "code",
      "source": [
        "Nsamples = 10\n",
        "\n",
        "# parameters for noiseless scenario\n",
        "tArray = np.zeros(Nsamples)\n",
        "# Some useful numbers\n",
        "eps = 1e-5\n",
        "epsilon = 0.01\n",
        "pSuccess = 0.1\n",
        "\n",
        "# Parameter related to dephasing and depolarizing noise\n",
        "T1 = 10.0\n",
        "T2 = 10.0\n",
        "\n",
        "# Initial parameter for noisy CNOT\n",
        "y1 = 0.0\n",
        "y2 = 0.0\n",
        "\n",
        "#Noisy measurement\n",
        "mA = 1.0\n",
        "mB = 1.0\n",
        "\n",
        "\n",
        "# initialisation of some w_real taken from 0 to 1\n",
        "wRealArray = np.linspace(0.0, 1.0, 20, endpoint=True)\n",
        "\n",
        "# initialisation of p_00 and w_est\n",
        "p00RealArray = np.zeros(len(wRealArray))\n",
        "wArray = np.zeros(len(wRealArray))\n",
        "\n",
        "#First calculate p00 from the w_real and then again inverting to w_est\n",
        "for q in np.arange(len(wRealArray)):\n",
        "  p00RealArray[q] = p00expn(wRealArray[q])\n",
        "  wArray[q] = invertWernerParam(p00RealArray[q], tArray, eps)\n",
        "\n",
        "#For plotting\n",
        "plt.style.use('classic')\n",
        "\n",
        "fig, ax = plt.subplots()\n",
        "ax.errorbar(wRealArray, wArray, fmt='.', ls='none')\n",
        "\n",
        "ax.set_xlabel(r'$w_{\\mathrm{real}}$', fontsize=24)\n",
        "ax.set_ylabel(r'$w_{\\mathrm{est}}$', fontsize=24)\n",
        "\n",
        "padx = 0.01\n",
        "pady = 0.05\n",
        "ax.set_xlim([0.0 - padx, 1.0 + padx])\n",
        "ax.set_ylim([0.0 - pady, 1.0 + pady])\n",
        "\n",
        "plt.show()"
      ],
      "metadata": {
        "id": "l468RGbsFoPq",
        "colab": {
          "base_uri": "https://localhost:8080/",
          "height": 466
        },
        "outputId": "b9d9cac6-9043-410f-fa1a-6a0912d0d873"
      },
      "execution_count": 8,
      "outputs": [
        {
          "output_type": "display_data",
          "data": {
            "text/plain": [
              "<Figure size 640x480 with 1 Axes>"
            ],
            "image/png": "[encoded data removed]"
          },
          "metadata": {}
        }
      ]
    },
    {
      "cell_type": "markdown",
      "source": [
        "Testing whether the inversion is correct or not in presence of noisy CNOT only. All other things remain noiseless. For that we take some arrays of $w \\in [0,1]$ (which we call $w_{real}$) and calculate $p_{00}$ and then again inverting to have $w_{est}$. We then plot $w_{est}$ vs $w_{real}$."
      ],
      "metadata": {
        "id": "DR7VPHiIgaog"
      }
    },
    {
      "cell_type": "code",
      "source": [
        "Nsamples = 10\n",
        "\n",
        "# parameters for noiseless state and measurements however CNOTs are noisy\n",
        "tArray = np.zeros(Nsamples)\n",
        "# Some useful numbers\n",
        "eps = 1e-5\n",
        "epsilon = 0.01\n",
        "pSuccess = 0.1\n",
        "\n",
        "# Parameter related to dephasing and depolarizing noise\n",
        "T1 = 10.0\n",
        "T2 = 10.0\n",
        "\n",
        "# Initial parameter for noisy CNOT\n",
        "y1 = 0.2\n",
        "y2 = 0.2\n",
        "\n",
        "#Noisy measurement\n",
        "mA = 1.0\n",
        "mB = 1.0\n",
        "\n",
        "\n",
        "# initialisation of some w_real taken from 0 to 1\n",
        "wRealArray = np.linspace(0.0, 1.0, 20, endpoint=True)\n",
        "\n",
        "# initialisation of p_00 and w_est\n",
        "p00RealArray = np.zeros(len(wRealArray))\n",
        "wArray = np.zeros(len(wRealArray))\n",
        "\n",
        "#First calculate p00 from the w_real and then again inverting to w_est\n",
        "for q in np.arange(len(wRealArray)):\n",
        "  p00RealArray[q] = p00expn(wRealArray[q])\n",
        "  wArray[q] = invertWernerParam(p00RealArray[q], tArray, eps)\n",
        "\n",
        "#For plotting\n",
        "plt.style.use('classic')\n",
        "\n",
        "fig, ax = plt.subplots()\n",
        "ax.errorbar(wRealArray, wArray, fmt='.', ls='none')\n",
        "\n",
        "ax.set_xlabel(r'$w_{\\mathrm{real}}$', fontsize=24)\n",
        "ax.set_ylabel(r'$w_{\\mathrm{est}}$', fontsize=24)\n",
        "\n",
        "padx = 0.01\n",
        "pady = 0.05\n",
        "ax.set_xlim([0.0 - padx, 1.0 + padx])\n",
        "ax.set_ylim([0.0 - pady, 1.0 + pady])\n",
        "\n",
        "plt.show()"
      ],
      "metadata": {
        "colab": {
          "base_uri": "https://localhost:8080/",
          "height": 466
        },
        "id": "tKayRJkTZAHI",
        "outputId": "1f582726-3c19-412e-c500-228f1dbcbf1c"
      },
      "execution_count": 9,
      "outputs": [
        {
          "output_type": "display_data",
          "data": {
            "text/plain": [
              "<Figure size 640x480 with 1 Axes>"
            ],
            "image/png": "[encoded data removed]"
          },
          "metadata": {}
        }
      ]
    },
    {
      "cell_type": "markdown",
      "source": [
        "Testing whether the inversion is correct or not when the states are noisy only. All other things remain noiseless. For that we take some arrays of $w \\in [0,1]$ (which we call $w_{real}$) and calculate $p_{00}$ and then again inverting to have $w_{est}$. We then plot $w_{est}$ vs $w_{real}$."
      ],
      "metadata": {
        "id": "YTBlAftih6Ci"
      }
    },
    {
      "cell_type": "code",
      "source": [
        "Nsamples = 10\n",
        "\n",
        "# parameters when states are undergoing noise but all other parameters are noiseless\n",
        "tArray = np.random.geometric(pSuccess, Nsamples)\n",
        "# Some useful numbers\n",
        "eps = 1e-5\n",
        "epsilon = 0.01\n",
        "pSuccess = 0.1\n",
        "\n",
        "# Parameter related to dephasing and depolarizing noise\n",
        "T1 = 100.0\n",
        "T2 = 100.0\n",
        "\n",
        "# Initial parameter for noisy CNOT\n",
        "y1 = 0.0\n",
        "y2 = 0.0\n",
        "\n",
        "#Noisy measurement\n",
        "mA = 1.0\n",
        "mB = 1.0\n",
        "\n",
        "\n",
        "# initialisation of some w_real taken from 0 to 1\n",
        "wRealArray = np.linspace(0.0, 1.0, 20, endpoint=True)\n",
        "\n",
        "# initialisation of p_00 and w_est\n",
        "p00RealArray = np.zeros(len(wRealArray))\n",
        "wArray = np.zeros(len(wRealArray))\n",
        "\n",
        "#First calculate p00 from the w_real and then again inverting to w_est\n",
        "for q in np.arange(len(wRealArray)):\n",
        "  p00RealArray[q] = p00expn(wRealArray[q])\n",
        "  wArray[q] = invertWernerParam(p00RealArray[q], tArray, eps)\n",
        "\n",
        "#For plotting\n",
        "plt.style.use('classic')\n",
        "\n",
        "fig, ax = plt.subplots()\n",
        "ax.errorbar(wRealArray, wArray, fmt='.', ls='none')\n",
        "\n",
        "ax.set_xlabel(r'$w_{\\mathrm{real}}$', fontsize=24)\n",
        "ax.set_ylabel(r'$w_{\\mathrm{est}}$', fontsize=24)\n",
        "\n",
        "padx = 0.01\n",
        "pady = 0.05\n",
        "ax.set_xlim([0.0 - padx, 1.0 + padx])\n",
        "ax.set_ylim([0.0 - pady, 1.0 + pady])\n",
        "\n",
        "plt.show()"
      ],
      "metadata": {
        "colab": {
          "base_uri": "https://localhost:8080/",
          "height": 466
        },
        "id": "e1p9c3zah-KY",
        "outputId": "d5d4905a-ea14-4a50-e93d-ec2e485d45e8"
      },
      "execution_count": 10,
      "outputs": [
        {
          "output_type": "display_data",
          "data": {
            "text/plain": [
              "<Figure size 640x480 with 1 Axes>"
            ],
            "image/png": "[encoded data removed]"
          },
          "metadata": {}
        }
      ]
    },
    {
      "cell_type": "markdown",
      "source": [
        "Testing whether the inversion is correct or not in presence of general noise. For that we take some arrays of $w \\in [0,1]$ (which we call $w_{real}$) and calculate $p_{00}$ and then again inverting to have $w_{est}$. We then plot $w_{est}$ vs $w_{real}$."
      ],
      "metadata": {
        "id": "uMl3zcLEiuaK"
      }
    },
    {
      "cell_type": "code",
      "source": [
        "Nsamples = 10\n",
        "\n",
        "# parameters for some general noisy scenario\n",
        "tArray = np.random.geometric(pSuccess, Nsamples)\n",
        "# Some useful numbers\n",
        "eps = 1e-5\n",
        "epsilon = 0.01\n",
        "pSuccess = 0.1\n",
        "\n",
        "# Parameter related to dephasing and depolarizing noise\n",
        "T1 = 100.0\n",
        "T2 = 100.0\n",
        "\n",
        "# Initial parameter for noisy CNOT\n",
        "y1 = 0.1\n",
        "y2 = 0.1\n",
        "\n",
        "#Noisy measurement\n",
        "mA = 0.8\n",
        "mB = 0.8\n",
        "\n",
        "\n",
        "# initialisation of some w_real taken from 0 to 1\n",
        "wRealArray = np.linspace(0.0, 1.0, 20, endpoint=True)\n",
        "\n",
        "# initialisation of p_00 and w_est\n",
        "p00RealArray = np.zeros(len(wRealArray))\n",
        "wArray = np.zeros(len(wRealArray))\n",
        "\n",
        "#First calculate p00 from the w_real and then again inverting to w_est\n",
        "for q in np.arange(len(wRealArray)):\n",
        "  p00RealArray[q] = p00expn(wRealArray[q])\n",
        "  wArray[q] = invertWernerParam(p00RealArray[q], tArray, eps)\n",
        "\n",
        "#For plotting\n",
        "plt.style.use('classic')\n",
        "\n",
        "fig, ax = plt.subplots()\n",
        "ax.errorbar(wRealArray, wArray, fmt='.', ls='none')\n",
        "\n",
        "ax.set_xlabel(r'$w_{\\mathrm{real}}$', fontsize=24)\n",
        "ax.set_ylabel(r'$w_{\\mathrm{est}}$', fontsize=24)\n",
        "\n",
        "padx = 0.01\n",
        "pady = 0.05\n",
        "ax.set_xlim([0.0 - padx, 1.0 + padx])\n",
        "ax.set_ylim([0.0 - pady, 1.0 + pady])\n",
        "\n",
        "plt.show()"
      ],
      "metadata": {
        "colab": {
          "base_uri": "https://localhost:8080/",
          "height": 466
        },
        "id": "U6G2MevPi3XP",
        "outputId": "26e7dc12-94b9-43a6-85b7-caf40df96b41"
      },
      "execution_count": 11,
      "outputs": [
        {
          "output_type": "display_data",
          "data": {
            "text/plain": [
              "<Figure size 640x480 with 1 Axes>"
            ],
            "image/png": "[encoded data removed]"
          },
          "metadata": {}
        }
      ]
    },
    {
      "cell_type": "markdown",
      "source": [
        "Noiseless experiment. Consider $w \\in [0,1]$ and then simulate experiment, obtain $p_{00}$, invert from $p_{00}$ to $w_{est}$."
      ],
      "metadata": {
        "id": "dgxJB7KMmJBB"
      }
    },
    {
      "cell_type": "code",
      "source": [
        "Nsamples = 100000\n",
        "\n",
        "# parameters for noiseless scenario\n",
        "tArray = np.zeros(Nsamples)\n",
        "# Some useful numbers\n",
        "eps = 1e-5\n",
        "epsilon = 0.01\n",
        "pSuccess = 0.1\n",
        "\n",
        "# Parameter related to dephasing and depolarizing noise\n",
        "T1 = 10.0\n",
        "T2 = 10.0\n",
        "\n",
        "# Initial parameter for noisy CNOT\n",
        "y1 = 0.0\n",
        "y2 = 0.0\n",
        "\n",
        "#Noisy measurement\n",
        "mA = 1.0\n",
        "mB = 1.0\n",
        "\n",
        "\n",
        "# initialisation of some w_real taken from 0 to 1\n",
        "wRealArray = np.linspace(0.0, 1.0, 20, endpoint=True)\n",
        "p00RealArray = np.zeros(len(wRealArray))\n",
        "\n",
        "# initialisation of p00experimental array\n",
        "p00EstArray = np.zeros(len(wRealArray))\n",
        "\n",
        "# initialisation of p_00 and w_est\n",
        "wEstArray = np.zeros(len(wRealArray))\n",
        "p00EpsilonplusEstArray = np.zeros(len(wRealArray))\n",
        "p00EpsilonminusEstArray = np.zeros(len(wRealArray))\n",
        "wEpsilonplusEstArray = np.zeros(len(wRealArray))\n",
        "wEpsilonminusEstArray = np.zeros(len(wRealArray))\n",
        "epsilonw = np.zeros(len(wRealArray))\n",
        "\n",
        "#First calculate p00 from the w_real and then again inverting to w_est\n",
        "for q in np.arange(len(wRealArray)):\n",
        "  print('iteration',q)\n",
        "  p00RealArray[q] = p00expn(wRealArray[q])\n",
        "  p00EstArray[q] = p00Experimental(wRealArray[q], Nsamples, pSuccess, tArray)\n",
        "  wEstArray[q] = invertWernerParam(p00EstArray[q], tArray, eps)\n",
        "  #p00EpsilonplusEstArray[q] = p00EstArray[q] + epsilon #plus array is not required since minus array is sufficient for our purpose\n",
        "  p00EpsilonminusEstArray[q] = p00EstArray[q] - epsilon\n",
        "  #wEpsilonplusEstArray[q] = invertWernerParam(p00EpsilonplusEstArray[q], tArray, eps)\n",
        "  wEpsilonminusEstArray[q] = invertWernerParam(p00EpsilonminusEstArray[q], tArray, eps)\n",
        "  epsilonw[q] = abs(wEpsilonminusEstArray[q] - wEstArray[q])"
      ],
      "metadata": {
        "colab": {
          "base_uri": "https://localhost:8080/"
        },
        "id": "EyQhSbYRmPYP",
        "outputId": "e1c9436a-dbaa-47cc-fe91-0f356dfcee50"
      },
      "execution_count": 12,
      "outputs": [
        {
          "output_type": "stream",
          "name": "stdout",
          "text": [
            "iteration 0\n",
            "iteration 1\n",
            "iteration 2\n",
            "iteration 3\n",
            "iteration 4\n",
            "iteration 5\n",
            "iteration 6\n",
            "iteration 7\n",
            "iteration 8\n",
            "iteration 9\n",
            "iteration 10\n",
            "iteration 11\n",
            "iteration 12\n",
            "iteration 13\n",
            "iteration 14\n",
            "iteration 15\n",
            "iteration 16\n",
            "iteration 17\n",
            "iteration 18\n",
            "iteration 19\n"
          ]
        }
      ]
    },
    {
      "cell_type": "code",
      "source": [
        "with open('estimation_w_noiseless_100000.txt','w') as f:\n",
        "    for q in np.arange(len(wRealArray)):\n",
        "        f.write(str(wRealArray[q]) + '\\t' + str(p00RealArray[q]) + '\\t' + str(p00EstArray[q]) + '\\t' + str(wEstArray[q]) + '\\t' + str(p00EpsilonminusEstArray[q]) + '\\t'+ str(wEpsilonminusEstArray[q]) + '\\t'+ str(epsilonw[q]) + '\\n' )"
      ],
      "metadata": {
        "id": "driy3HQdA-rE"
      },
      "execution_count": 13,
      "outputs": []
    },
    {
      "cell_type": "code",
      "source": [
        "#For plotting\n",
        "plt.style.use('classic')\n",
        "\n",
        "fig, ax = plt.subplots()\n",
        "ax.errorbar(wRealArray, wEstArray, fmt='.', ls='none')\n",
        "ax.plot([0.,1.],[0.,1.], ls = 'dashed')\n",
        "\n",
        "ax.set_xlabel(r'$w_{\\mathrm{real}}$', fontsize=24)\n",
        "ax.set_ylabel(r'$w_{\\mathrm{est}}$', fontsize=24)\n",
        "\n",
        "padx = 0.01\n",
        "pady = 0.05\n",
        "ax.set_xlim([0.0 - padx, 1.0 + padx])\n",
        "ax.set_ylim([0.0 - pady, 1.0 + pady])\n",
        "\n",
        "plt.show()"
      ],
      "metadata": {
        "colab": {
          "base_uri": "https://localhost:8080/",
          "height": 466
        },
        "id": "L4xZ8aCQut7p",
        "outputId": "91cdde48-dcf5-4e36-f4e4-7bd74939b045"
      },
      "execution_count": 15,
      "outputs": [
        {
          "output_type": "display_data",
          "data": {
            "text/plain": [
              "<Figure size 640x480 with 1 Axes>"
            ],
            "image/png": "[encoded data removed]"
          },
          "metadata": {}
        }
      ]
    },
    {
      "cell_type": "code",
      "source": [
        "#For plotting\n",
        "plt.style.use('classic')\n",
        "\n",
        "fig, ax = plt.subplots()\n",
        "ax.errorbar(wRealArray, p00RealArray, fmt='', ls='dashed')\n",
        "ax.scatter(wRealArray, p00EstArray, color='red')\n",
        "\n",
        "ax.set_xlabel(r'$w_{\\mathrm{real}}$', fontsize=24)\n",
        "ax.set_ylabel(r'$p_{00}exp$', fontsize=24)\n",
        "\n",
        "padx = 0.01\n",
        "pady = 0.05\n",
        "ax.set_xlim([0.0 - padx, 1.0 + padx])\n",
        "ax.set_ylim([0.25 - pady, 0.5 + pady])\n",
        "\n",
        "plt.show()"
      ],
      "metadata": {
        "colab": {
          "base_uri": "https://localhost:8080/",
          "height": 472
        },
        "id": "5_5yC1VsBVNz",
        "outputId": "5eea561d-f8c5-4940-b52c-0c44c8227238"
      },
      "execution_count": 18,
      "outputs": [
        {
          "output_type": "display_data",
          "data": {
            "text/plain": [
              "<Figure size 640x480 with 1 Axes>"
            ],
            "image/png": "[encoded data removed]"
          },
          "metadata": {}
        }
      ]
    },
    {
      "cell_type": "code",
      "source": [
        "#For plotting\n",
        "plt.style.use('classic')\n",
        "\n",
        "fig, ax = plt.subplots()\n",
        "ax.errorbar(wEstArray, p00EstArray,  fmt='.', ls='dashed')\n",
        "\n",
        "ax.set_xlabel(r'$w_{\\mathrm{real}}$', fontsize=24)\n",
        "ax.set_ylabel(r'$p_{00}exp$', fontsize=24)\n",
        "\n",
        "padx = 0.01\n",
        "pady = 0.05\n",
        "ax.set_xlim([0.0 - padx, 1.0 + padx])\n",
        "ax.set_ylim([0.25 - pady, 0.5 + pady])\n",
        "\n",
        "plt.show()"
      ],
      "metadata": {
        "colab": {
          "base_uri": "https://localhost:8080/",
          "height": 472
        },
        "id": "hA5jEIbma-WK",
        "outputId": "3c176a85-cd6a-4451-88d0-b3cbeeb83bcf"
      },
      "execution_count": 20,
      "outputs": [
        {
          "output_type": "display_data",
          "data": {
            "text/plain": [
              "<Figure size 640x480 with 1 Axes>"
            ],
            "image/png": "[encoded data removed]"
          },
          "metadata": {}
        }
      ]
    },
    {
      "cell_type": "code",
      "source": [
        "#For plotting\n",
        "plt.style.use('classic')\n",
        "\n",
        "fig, ax = plt.subplots()\n",
        "ax.errorbar(p00RealArray, p00EstArray,  fmt='.', ls='none')\n",
        "ax.plot([0.,1.],[0.,1.], ls = 'solid')\n",
        "ax.set_xlabel(r'$p_{00Real}$', fontsize=24)\n",
        "ax.set_ylabel(r'$p_{00exp}$', fontsize=24)\n",
        "\n",
        "padx = 0.01\n",
        "pady = 0.05\n",
        "ax.set_xlim([0.25 - padx, 0.5 + padx])\n",
        "ax.set_ylim([0.25 - pady, 0.5 + pady])\n",
        "\n",
        "plt.show()"
      ],
      "metadata": {
        "id": "1_zC_LwNDHMS",
        "colab": {
          "base_uri": "https://localhost:8080/",
          "height": 472
        },
        "outputId": "a8320dd2-8913-44ab-87a4-7fabca29f132"
      },
      "execution_count": 23,
      "outputs": [
        {
          "output_type": "display_data",
          "data": {
            "text/plain": [
              "<Figure size 640x480 with 1 Axes>"
            ],
            "image/png": "[encoded data removed]"
          },
          "metadata": {}
        }
      ]
    },
    {
      "cell_type": "markdown",
      "source": [
        "Noisy experiment. Consider $w \\in [0,1]$ and then simulate experiment, obtain $p_{00}$, invert from $p_{00}$ to $w_{est}$."
      ],
      "metadata": {
        "id": "okciLe5K9fbj"
      }
    },
    {
      "cell_type": "code",
      "source": [
        "Nsamples = 100000\n",
        "\n",
        "# parameters for noiseless scenario\n",
        "tArray = np.zeros(Nsamples)\n",
        "# Some useful numbers\n",
        "eps = 1e-5\n",
        "epsilon = 0.01\n",
        "pSuccess = 0.1\n",
        "\n",
        "# Parameter related to dephasing and depolarizing noise\n",
        "T1 = 100.0\n",
        "T2 = 100.0\n",
        "\n",
        "# Initial parameter for noisy CNOT\n",
        "y1 = 0.1\n",
        "y2 = 0.1\n",
        "\n",
        "#Noisy measurement\n",
        "mA = 0.9\n",
        "mB = 0.9\n",
        "\n",
        "\n",
        "# initialisation of some w_real taken from 0 to 1\n",
        "wRealArray = np.linspace(0.0, 1.0, 20, endpoint=True)\n",
        "p00RealArray = np.zeros(len(wRealArray))\n",
        "\n",
        "# initialisation of p00experimental array\n",
        "p00EstArray = np.zeros(len(wRealArray))\n",
        "\n",
        "# initialisation of p_00 and w_est\n",
        "wEstArray = np.zeros(len(wRealArray))\n",
        "p00EpsilonplusEstArray = np.zeros(len(wRealArray))\n",
        "p00EpsilonminusEstArray = np.zeros(len(wRealArray))\n",
        "wEpsilonplusEstArray = np.zeros(len(wRealArray))\n",
        "wEpsilonminusEstArray = np.zeros(len(wRealArray))\n",
        "epsilonw = np.zeros(len(wRealArray))\n",
        "\n",
        "#First calculate p00 from the w_real and then again inverting to w_est\n",
        "for q in np.arange(len(wRealArray)):\n",
        "  print('iteration',q)\n",
        "  p00RealArray[q] = p00expn(wRealArray[q])\n",
        "  p00EstArray[q] = p00Experimental(wRealArray[q], Nsamples, pSuccess, tArray)\n",
        "  wEstArray[q] = invertWernerParam(p00EstArray[q], tArray, eps)\n",
        "  #p00EpsilonplusEstArray[q] = p00EstArray[q] + epsilon #plus array is not required since minus array is sufficient for our purpose\n",
        "  p00EpsilonminusEstArray[q] = p00EstArray[q] - epsilon\n",
        "  #wEpsilonplusEstArray[q] = invertWernerParam(p00EpsilonplusEstArray[q], tArray, eps)\n",
        "  wEpsilonminusEstArray[q] = invertWernerParam(p00EpsilonminusEstArray[q], tArray, eps)\n",
        "  epsilonw[q] = abs(wEpsilonminusEstArray[q] - wEstArray[q])"
      ],
      "metadata": {
        "colab": {
          "base_uri": "https://localhost:8080/"
        },
        "id": "QLRVd3Ri9b1V",
        "outputId": "4378833a-a227-4535-a90b-537d87a2aefd"
      },
      "execution_count": null,
      "outputs": [
        {
          "output_type": "stream",
          "name": "stdout",
          "text": [
            "iteration 0\n",
            "iteration 1\n",
            "iteration 2\n",
            "iteration 3\n"
          ]
        }
      ]
    },
    {
      "cell_type": "code",
      "source": [
        "with open('estimation_w_noisy_100000.txt','w') as f:\n",
        "    for q in np.arange(len(wRealArray)):\n",
        "        f.write(str(wRealArray[q]) + '\\t' + str(p00RealArray[q]) + '\\t' + str(p00EstArray[q]) + '\\t' + str(wEstArray[q]) + '\\t' + str(p00EpsilonminusEstArray[q]) + '\\t'+ str(wEpsilonminusEstArray[q]) + '\\t'+ str(epsilonw[q]) + '\\n' )"
      ],
      "metadata": {
        "id": "8OP1TDLG-lAs"
      },
      "execution_count": null,
      "outputs": []
    },
    {
      "cell_type": "code",
      "source": [],
      "metadata": {
        "id": "GykeDwBIbfKR"
      },
      "execution_count": null,
      "outputs": []
    }
  ]
}